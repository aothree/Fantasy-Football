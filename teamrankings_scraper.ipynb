{
 "cells": [
  {
   "cell_type": "code",
   "execution_count": 15,
   "id": "4d38bae2-ec78-4248-9125-2e163896495e",
   "metadata": {},
   "outputs": [],
   "source": [
    "import pandas as pd\n",
    "import requests\n",
    "import time"
   ]
  },
  {
   "cell_type": "code",
   "execution_count": 18,
   "id": "9c060894-9c1a-4b0e-a09c-8559fdfc040a",
   "metadata": {},
   "outputs": [
    {
     "data": {
      "text/plain": [
       "(200, '<!doctype html>\\n<html id=\"html\" class=\"no-js\" lang')"
      ]
     },
     "execution_count": 18,
     "metadata": {},
     "output_type": "execute_result"
    }
   ],
   "source": [
    "url = 'https://www.teamrankings.com/nfl/player-stat/passing-plays-completed?split=away&rate=per-game'\n",
    "resp = requests.get(url)\n",
    "\n",
    "resp.status_code, resp.text[:50]"
   ]
  },
  {
   "cell_type": "code",
   "execution_count": 19,
   "id": "91be78bd-776c-49da-af8c-7b5ee53dd7a4",
   "metadata": {},
   "outputs": [],
   "source": [
    "output = open(f'./nfl_data/teamrankings_scraper.xls', 'wb')\n",
    "output.write(resp.content)\n",
    "output.close()"
   ]
  },
  {
   "cell_type": "code",
   "execution_count": 20,
   "id": "5e147b4a-271d-4d58-8df7-89118da75a98",
   "metadata": {},
   "outputs": [
    {
     "data": {
      "text/html": [
       "<div>\n",
       "<style scoped>\n",
       "    .dataframe tbody tr th:only-of-type {\n",
       "        vertical-align: middle;\n",
       "    }\n",
       "\n",
       "    .dataframe tbody tr th {\n",
       "        vertical-align: top;\n",
       "    }\n",
       "\n",
       "    .dataframe thead th {\n",
       "        text-align: right;\n",
       "    }\n",
       "</style>\n",
       "<table border=\"1\" class=\"dataframe\">\n",
       "  <thead>\n",
       "    <tr style=\"text-align: right;\">\n",
       "      <th></th>\n",
       "      <th>Rank</th>\n",
       "      <th>Player</th>\n",
       "      <th>Team</th>\n",
       "      <th>Pos</th>\n",
       "      <th>Value</th>\n",
       "    </tr>\n",
       "  </thead>\n",
       "  <tbody>\n",
       "    <tr>\n",
       "      <th>0</th>\n",
       "      <td>1</td>\n",
       "      <td>Tom Brady</td>\n",
       "      <td>Tampa Bay Buccaneers</td>\n",
       "      <td>QB</td>\n",
       "      <td>29.22</td>\n",
       "    </tr>\n",
       "    <tr>\n",
       "      <th>1</th>\n",
       "      <td>2</td>\n",
       "      <td>Justin Herbert</td>\n",
       "      <td>Los Angeles Chargers</td>\n",
       "      <td>QB</td>\n",
       "      <td>28.25</td>\n",
       "    </tr>\n",
       "    <tr>\n",
       "      <th>2</th>\n",
       "      <td>2</td>\n",
       "      <td>Dak Prescott</td>\n",
       "      <td>Dallas Cowboys</td>\n",
       "      <td>QB</td>\n",
       "      <td>28.25</td>\n",
       "    </tr>\n",
       "    <tr>\n",
       "      <th>3</th>\n",
       "      <td>4</td>\n",
       "      <td>Patrick Mahomes</td>\n",
       "      <td>Kansas City Chiefs</td>\n",
       "      <td>QB</td>\n",
       "      <td>27.38</td>\n",
       "    </tr>\n",
       "    <tr>\n",
       "      <th>4</th>\n",
       "      <td>5</td>\n",
       "      <td>Tyler Huntley</td>\n",
       "      <td>Baltimore Ravens</td>\n",
       "      <td>QB</td>\n",
       "      <td>26.50</td>\n",
       "    </tr>\n",
       "    <tr>\n",
       "      <th>...</th>\n",
       "      <td>...</td>\n",
       "      <td>...</td>\n",
       "      <td>...</td>\n",
       "      <td>...</td>\n",
       "      <td>...</td>\n",
       "    </tr>\n",
       "    <tr>\n",
       "      <th>95</th>\n",
       "      <td>76</td>\n",
       "      <td>Mark Gilbert</td>\n",
       "      <td>Detroit Lions</td>\n",
       "      <td>CB</td>\n",
       "      <td>0.00</td>\n",
       "    </tr>\n",
       "    <tr>\n",
       "      <th>96</th>\n",
       "      <td>76</td>\n",
       "      <td>Noah Igbinoghene</td>\n",
       "      <td>Miami Dolphins</td>\n",
       "      <td>CB</td>\n",
       "      <td>0.00</td>\n",
       "    </tr>\n",
       "    <tr>\n",
       "      <th>97</th>\n",
       "      <td>76</td>\n",
       "      <td>Thomas Graham Jr.</td>\n",
       "      <td>Chicago Bears</td>\n",
       "      <td>DB</td>\n",
       "      <td>0.00</td>\n",
       "    </tr>\n",
       "    <tr>\n",
       "      <th>98</th>\n",
       "      <td>76</td>\n",
       "      <td>Mo Alie-Cox</td>\n",
       "      <td>Indianapolis Colts</td>\n",
       "      <td>TE</td>\n",
       "      <td>0.00</td>\n",
       "    </tr>\n",
       "    <tr>\n",
       "      <th>99</th>\n",
       "      <td>76</td>\n",
       "      <td>Jerry Jacobs</td>\n",
       "      <td>Detroit Lions</td>\n",
       "      <td>CB</td>\n",
       "      <td>0.00</td>\n",
       "    </tr>\n",
       "  </tbody>\n",
       "</table>\n",
       "<p>100 rows × 5 columns</p>\n",
       "</div>"
      ],
      "text/plain": [
       "    Rank             Player                  Team Pos  Value\n",
       "0      1          Tom Brady  Tampa Bay Buccaneers  QB  29.22\n",
       "1      2     Justin Herbert  Los Angeles Chargers  QB  28.25\n",
       "2      2       Dak Prescott        Dallas Cowboys  QB  28.25\n",
       "3      4    Patrick Mahomes    Kansas City Chiefs  QB  27.38\n",
       "4      5      Tyler Huntley      Baltimore Ravens  QB  26.50\n",
       "..   ...                ...                   ...  ..    ...\n",
       "95    76       Mark Gilbert         Detroit Lions  CB   0.00\n",
       "96    76   Noah Igbinoghene        Miami Dolphins  CB   0.00\n",
       "97    76  Thomas Graham Jr.         Chicago Bears  DB   0.00\n",
       "98    76        Mo Alie-Cox    Indianapolis Colts  TE   0.00\n",
       "99    76       Jerry Jacobs         Detroit Lions  CB   0.00\n",
       "\n",
       "[100 rows x 5 columns]"
      ]
     },
     "execution_count": 20,
     "metadata": {},
     "output_type": "execute_result"
    }
   ],
   "source": [
    "df_pass_completions = pd.read_html('./nfl_data/teamrankings_scraper.xls')\n",
    "df_pass_completions = pd.DataFrame(df_pass_completions[0]) # Saves df var to dataframe\n",
    "df_pass_completions"
   ]
  },
  {
   "cell_type": "code",
   "execution_count": null,
   "id": "bb8867ea-52b2-405c-aed0-54f9e18f68b7",
   "metadata": {},
   "outputs": [],
   "source": []
  }
 ],
 "metadata": {
  "kernelspec": {
   "display_name": "Python 3 (ipykernel)",
   "language": "python",
   "name": "python3"
  },
  "language_info": {
   "codemirror_mode": {
    "name": "ipython",
    "version": 3
   },
   "file_extension": ".py",
   "mimetype": "text/x-python",
   "name": "python",
   "nbconvert_exporter": "python",
   "pygments_lexer": "ipython3",
   "version": "3.9.7"
  }
 },
 "nbformat": 4,
 "nbformat_minor": 5
}
