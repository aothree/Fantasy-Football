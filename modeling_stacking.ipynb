{
 "cells": [
  {
   "cell_type": "code",
   "execution_count": 24,
   "id": "0daa8dfb-6d3f-4ec3-a20f-43389c98c0e7",
   "metadata": {},
   "outputs": [],
   "source": [
    "import pandas as pd\n",
    "import numpy as np\n",
    "import matplotlib.pyplot as plt\n",
    "\n",
    "from sklearn.model_selection import train_test_split, cross_val_predict, cross_val_score\n",
    "\n",
    "from sklearn.pipeline import Pipeline\n",
    "from sklearn.neighbors import KNeighborsRegressor\n",
    "from sklearn.preprocessing import StandardScaler\n",
    "\n",
    "from sklearn.linear_model import LinearRegression, LassoCV\n",
    "from sklearn.ensemble import BaggingRegressor, StackingRegressor\n",
    "from sklearn.model_selection import GridSearchCV"
   ]
  },
  {
   "cell_type": "code",
   "execution_count": 2,
   "id": "2414c873-52bf-430c-b836-b753f16ce416",
   "metadata": {},
   "outputs": [
    {
     "data": {
      "text/html": [
       "<div>\n",
       "<style scoped>\n",
       "    .dataframe tbody tr th:only-of-type {\n",
       "        vertical-align: middle;\n",
       "    }\n",
       "\n",
       "    .dataframe tbody tr th {\n",
       "        vertical-align: top;\n",
       "    }\n",
       "\n",
       "    .dataframe thead th {\n",
       "        text-align: right;\n",
       "    }\n",
       "</style>\n",
       "<table border=\"1\" class=\"dataframe\">\n",
       "  <thead>\n",
       "    <tr style=\"text-align: right;\">\n",
       "      <th></th>\n",
       "      <th>Player</th>\n",
       "      <th>Game</th>\n",
       "      <th>FPTS  Fantasy Points</th>\n",
       "      <th>CMP  Pass Completions</th>\n",
       "      <th>ATT  Pass Attempts</th>\n",
       "      <th>YDS  Passing Yards</th>\n",
       "      <th>TD  Touchdown Passes</th>\n",
       "      <th>INT  Interceptions Thrown</th>\n",
       "      <th>ATT  Rushing Attempts</th>\n",
       "      <th>YDS  Rushing Yards</th>\n",
       "      <th>TD  Rushing Touchdowns</th>\n",
       "      <th>Week</th>\n",
       "      <th>Pos</th>\n",
       "    </tr>\n",
       "  </thead>\n",
       "  <tbody>\n",
       "    <tr>\n",
       "      <th>0</th>\n",
       "      <td>Josh Allen</td>\n",
       "      <td>BUF 47 - NE 17</td>\n",
       "      <td>48</td>\n",
       "      <td>21</td>\n",
       "      <td>25</td>\n",
       "      <td>308</td>\n",
       "      <td>5</td>\n",
       "      <td>0</td>\n",
       "      <td>6</td>\n",
       "      <td>66</td>\n",
       "      <td>0</td>\n",
       "      <td>19</td>\n",
       "      <td>QB</td>\n",
       "    </tr>\n",
       "    <tr>\n",
       "      <th>1</th>\n",
       "      <td>Patrick Mahomes</td>\n",
       "      <td>KC 42 - PIT 21</td>\n",
       "      <td>46</td>\n",
       "      <td>30</td>\n",
       "      <td>39</td>\n",
       "      <td>404</td>\n",
       "      <td>5</td>\n",
       "      <td>1</td>\n",
       "      <td>3</td>\n",
       "      <td>29</td>\n",
       "      <td>0</td>\n",
       "      <td>19</td>\n",
       "      <td>QB</td>\n",
       "    </tr>\n",
       "    <tr>\n",
       "      <th>2</th>\n",
       "      <td>Matthew Stafford</td>\n",
       "      <td>LAR 34 - ARI 11</td>\n",
       "      <td>28</td>\n",
       "      <td>13</td>\n",
       "      <td>17</td>\n",
       "      <td>202</td>\n",
       "      <td>2</td>\n",
       "      <td>0</td>\n",
       "      <td>6</td>\n",
       "      <td>22</td>\n",
       "      <td>1</td>\n",
       "      <td>19</td>\n",
       "      <td>QB</td>\n",
       "    </tr>\n",
       "    <tr>\n",
       "      <th>3</th>\n",
       "      <td>Dak Prescott</td>\n",
       "      <td>SF 23 - DAL 17</td>\n",
       "      <td>22</td>\n",
       "      <td>23</td>\n",
       "      <td>43</td>\n",
       "      <td>254</td>\n",
       "      <td>1</td>\n",
       "      <td>1</td>\n",
       "      <td>4</td>\n",
       "      <td>27</td>\n",
       "      <td>1</td>\n",
       "      <td>19</td>\n",
       "      <td>QB</td>\n",
       "    </tr>\n",
       "    <tr>\n",
       "      <th>4</th>\n",
       "      <td>Tom Brady</td>\n",
       "      <td>TB 31 - PHI 15</td>\n",
       "      <td>22</td>\n",
       "      <td>29</td>\n",
       "      <td>37</td>\n",
       "      <td>271</td>\n",
       "      <td>2</td>\n",
       "      <td>0</td>\n",
       "      <td>0</td>\n",
       "      <td>0</td>\n",
       "      <td>0</td>\n",
       "      <td>19</td>\n",
       "      <td>QB</td>\n",
       "    </tr>\n",
       "  </tbody>\n",
       "</table>\n",
       "</div>"
      ],
      "text/plain": [
       "             Player             Game  FPTS  Fantasy Points  \\\n",
       "0        Josh Allen   BUF 47 - NE 17                    48   \n",
       "1   Patrick Mahomes   KC 42 - PIT 21                    46   \n",
       "2  Matthew Stafford  LAR 34 - ARI 11                    28   \n",
       "3      Dak Prescott   SF 23 - DAL 17                    22   \n",
       "4         Tom Brady   TB 31 - PHI 15                    22   \n",
       "\n",
       "   CMP  Pass Completions  ATT  Pass Attempts  YDS  Passing Yards  \\\n",
       "0                     21                  25                 308   \n",
       "1                     30                  39                 404   \n",
       "2                     13                  17                 202   \n",
       "3                     23                  43                 254   \n",
       "4                     29                  37                 271   \n",
       "\n",
       "   TD  Touchdown Passes  INT  Interceptions Thrown  ATT  Rushing Attempts  \\\n",
       "0                     5                          0                      6   \n",
       "1                     5                          1                      3   \n",
       "2                     2                          0                      6   \n",
       "3                     1                          1                      4   \n",
       "4                     2                          0                      0   \n",
       "\n",
       "   YDS  Rushing Yards  TD  Rushing Touchdowns  Week Pos  \n",
       "0                  66                       0    19  QB  \n",
       "1                  29                       0    19  QB  \n",
       "2                  22                       1    19  QB  \n",
       "3                  27                       1    19  QB  \n",
       "4                   0                       0    19  QB  "
      ]
     },
     "execution_count": 2,
     "metadata": {},
     "output_type": "execute_result"
    }
   ],
   "source": [
    "df = pd.read_csv('./nfl_data/weekly/cbs_weekly/passing_through_week-23.csv')\n",
    "df.head()"
   ]
  },
  {
   "cell_type": "code",
   "execution_count": 3,
   "id": "c5462d02-5961-490a-b141-ec495118b002",
   "metadata": {},
   "outputs": [
    {
     "data": {
      "text/plain": [
       "Index(['Player', 'Game', 'FPTS  Fantasy Points', 'CMP  Pass Completions',\n",
       "       'ATT  Pass Attempts', 'YDS  Passing Yards', 'TD  Touchdown Passes',\n",
       "       'INT  Interceptions Thrown', 'ATT  Rushing Attempts',\n",
       "       'YDS  Rushing Yards', 'TD  Rushing Touchdowns', 'Week', 'Pos'],\n",
       "      dtype='object')"
      ]
     },
     "execution_count": 3,
     "metadata": {},
     "output_type": "execute_result"
    }
   ],
   "source": [
    "df.columns"
   ]
  },
  {
   "cell_type": "code",
   "execution_count": 4,
   "id": "fd5529dd-1b1c-4548-bbfe-52e8ca0207c2",
   "metadata": {},
   "outputs": [],
   "source": [
    "df.drop(columns = 'Pos', inplace = True)"
   ]
  },
  {
   "cell_type": "markdown",
   "id": "90aece02-290a-4d47-810b-cb636fb38d1d",
   "metadata": {},
   "source": [
    "## Level 1 Model"
   ]
  },
  {
   "cell_type": "code",
   "execution_count": 5,
   "id": "4d27ae77-5f7b-4826-8e13-42d93e3e24e7",
   "metadata": {},
   "outputs": [],
   "source": [
    "# Create X and y\n",
    "X = df.drop(columns = ['Player', 'Game', 'FPTS  Fantasy Points'])\n",
    "y = df['FPTS  Fantasy Points']"
   ]
  },
  {
   "cell_type": "code",
   "execution_count": 6,
   "id": "76d127b0-82bf-41dd-a399-2b1e41fc0f7a",
   "metadata": {},
   "outputs": [],
   "source": [
    "X_train, X_test, y_train, y_test = train_test_split(X, y, random_state=42)"
   ]
  },
  {
   "cell_type": "code",
   "execution_count": 7,
   "id": "602fc928-c4c3-4f9e-bde1-1bc0bb60c2ec",
   "metadata": {},
   "outputs": [],
   "source": [
    "model1 = Pipeline([\n",
    "    ('ss', StandardScaler()),\n",
    "    ('lasso', LassoCV())\n",
    "])\n",
    "model2 = Pipeline([\n",
    "    ('ss', StandardScaler()),\n",
    "    ('knn', KNeighborsRegressor())\n",
    "])\n",
    "model3 = BaggingRegressor()"
   ]
  },
  {
   "cell_type": "markdown",
   "id": "7cf35e64-3030-4301-b8db-7eade838ee83",
   "metadata": {},
   "source": [
    "from: https://git.generalassemb.ly/DSIR-0124/lesson-stacking/blob/master/starter-code.ipynb\n",
    "Before we fit these models, we need to get predictions to be used as features for our Level 2 model. It's important that the predictions be out of sample to avoid the negative effects of overfitting. Thankfully, scikit-learn has a function that does that for us: cross_val_predict. It's very similar to cross_val_score, except now we're getting predictions from our test folds instead of R2 scores.\n",
    "\n",
    "In the cell below, use cross_val_predict to create a DataFrame of predictions (X_pred_train) for our level 2 model."
   ]
  },
  {
   "cell_type": "code",
   "execution_count": 8,
   "id": "848e4b12-f570-49d0-91dd-f79a37215023",
   "metadata": {},
   "outputs": [
    {
     "data": {
      "text/plain": [
       "array([0.79476147, 0.95891734, 0.96563184, 0.99299506, 0.98751532])"
      ]
     },
     "execution_count": 8,
     "metadata": {},
     "output_type": "execute_result"
    }
   ],
   "source": [
    "lr = LinearRegression()\n",
    "cross_val_score(lr, X_train, y_train)\n",
    "# foo.score(X_train, y_train)"
   ]
  },
  {
   "cell_type": "code",
   "execution_count": 9,
   "id": "631ebb6d-91f7-468f-aa02-8eca344bdb0a",
   "metadata": {},
   "outputs": [
    {
     "data": {
      "text/html": [
       "<div>\n",
       "<style scoped>\n",
       "    .dataframe tbody tr th:only-of-type {\n",
       "        vertical-align: middle;\n",
       "    }\n",
       "\n",
       "    .dataframe tbody tr th {\n",
       "        vertical-align: top;\n",
       "    }\n",
       "\n",
       "    .dataframe thead th {\n",
       "        text-align: right;\n",
       "    }\n",
       "</style>\n",
       "<table border=\"1\" class=\"dataframe\">\n",
       "  <thead>\n",
       "    <tr style=\"text-align: right;\">\n",
       "      <th></th>\n",
       "      <th>model1</th>\n",
       "      <th>model2</th>\n",
       "      <th>model3</th>\n",
       "    </tr>\n",
       "  </thead>\n",
       "  <tbody>\n",
       "    <tr>\n",
       "      <th>1</th>\n",
       "      <td>45.639699</td>\n",
       "      <td>21.4</td>\n",
       "      <td>26.5</td>\n",
       "    </tr>\n",
       "    <tr>\n",
       "      <th>23</th>\n",
       "      <td>19.023037</td>\n",
       "      <td>14.0</td>\n",
       "      <td>16.9</td>\n",
       "    </tr>\n",
       "    <tr>\n",
       "      <th>5</th>\n",
       "      <td>20.938888</td>\n",
       "      <td>14.6</td>\n",
       "      <td>19.2</td>\n",
       "    </tr>\n",
       "    <tr>\n",
       "      <th>2</th>\n",
       "      <td>27.511748</td>\n",
       "      <td>20.0</td>\n",
       "      <td>16.9</td>\n",
       "    </tr>\n",
       "    <tr>\n",
       "      <th>12</th>\n",
       "      <td>3.269404</td>\n",
       "      <td>12.6</td>\n",
       "      <td>4.2</td>\n",
       "    </tr>\n",
       "  </tbody>\n",
       "</table>\n",
       "</div>"
      ],
      "text/plain": [
       "       model1  model2  model3\n",
       "1   45.639699    21.4    26.5\n",
       "23  19.023037    14.0    16.9\n",
       "5   20.938888    14.6    19.2\n",
       "2   27.511748    20.0    16.9\n",
       "12   3.269404    12.6     4.2"
      ]
     },
     "execution_count": 9,
     "metadata": {},
     "output_type": "execute_result"
    }
   ],
   "source": [
    "X_pred_train = pd.DataFrame(index=X_train.index)\n",
    "X_pred_train['model1'] = cross_val_predict(model1, X_train, y_train)\n",
    "X_pred_train['model2'] = cross_val_predict(model2, X_train, y_train)\n",
    "X_pred_train['model3'] = cross_val_predict(model3, X_train, y_train)\n",
    "X_pred_train.head()"
   ]
  },
  {
   "cell_type": "code",
   "execution_count": 10,
   "id": "d1fb1fd5-42de-43fb-af45-8edcbb1540fe",
   "metadata": {},
   "outputs": [
    {
     "data": {
      "text/plain": [
       "BaggingRegressor()"
      ]
     },
     "execution_count": 10,
     "metadata": {},
     "output_type": "execute_result"
    }
   ],
   "source": [
    "model1.fit(X_train, y_train)\n",
    "model2.fit(X_train, y_train)\n",
    "model3.fit(X_train, y_train)"
   ]
  },
  {
   "cell_type": "markdown",
   "id": "40ad3a65-1dc9-42b6-ab3e-26082081102d",
   "metadata": {},
   "source": [
    "## Level 2 Model"
   ]
  },
  {
   "cell_type": "code",
   "execution_count": 13,
   "id": "15d4211a-d70e-451c-b887-20d4b209ddcb",
   "metadata": {},
   "outputs": [
    {
     "data": {
      "text/plain": [
       "0.9683751983403296"
      ]
     },
     "execution_count": 13,
     "metadata": {},
     "output_type": "execute_result"
    }
   ],
   "source": [
    "lr = LinearRegression()\n",
    "cross_val_score(lr, X_pred_train, y_train).mean()"
   ]
  },
  {
   "cell_type": "code",
   "execution_count": 14,
   "id": "edb4dcc8-fccf-4f5a-af2b-7364ecafac93",
   "metadata": {},
   "outputs": [
    {
     "data": {
      "text/plain": [
       "array([ 1.00333004, -0.17707541,  0.1225466 ])"
      ]
     },
     "execution_count": 14,
     "metadata": {},
     "output_type": "execute_result"
    }
   ],
   "source": [
    "lr.fit(X_pred_train, y_train)\n",
    "lr.coef_"
   ]
  },
  {
   "cell_type": "code",
   "execution_count": 15,
   "id": "0fa0204c-eeb8-4eec-b91b-3831eccb61e3",
   "metadata": {},
   "outputs": [
    {
     "data": {
      "text/plain": [
       "0.9884812210668275"
      ]
     },
     "execution_count": 15,
     "metadata": {},
     "output_type": "execute_result"
    }
   ],
   "source": [
    "# Train score\n",
    "lr.score(X_pred_train, y_train)"
   ]
  },
  {
   "cell_type": "markdown",
   "id": "4079e5bc-e5b3-47c7-b2eb-7c4e9e6d4784",
   "metadata": {},
   "source": [
    "In order to get a test score, we'll need to create a DataFrame of predictions using our Level 1 models"
   ]
  },
  {
   "cell_type": "code",
   "execution_count": 17,
   "id": "48223001-8870-4a3b-9c26-439677432c82",
   "metadata": {},
   "outputs": [],
   "source": [
    "X_pred_test = pd.DataFrame()\n",
    "X_pred_test['model1'] = model1.predict(X_test)\n",
    "X_pred_test['model2'] = model2.predict(X_test)\n",
    "X_pred_test['model3'] = model3.predict(X_test)"
   ]
  },
  {
   "cell_type": "code",
   "execution_count": 18,
   "id": "e8d4e907-127c-4f23-ab7c-7913892e448d",
   "metadata": {},
   "outputs": [
    {
     "data": {
      "text/plain": [
       "0.9920471277136842"
      ]
     },
     "execution_count": 18,
     "metadata": {},
     "output_type": "execute_result"
    }
   ],
   "source": [
    "# Test Score\n",
    "lr.score(X_pred_test, y_test)"
   ]
  },
  {
   "cell_type": "code",
   "execution_count": 19,
   "id": "c929efb4-9412-4a5a-9157-ad474998cc6e",
   "metadata": {},
   "outputs": [],
   "source": [
    "residuals = y_test - lr.predict(X_pred_test)"
   ]
  },
  {
   "cell_type": "code",
   "execution_count": 22,
   "id": "991505ba-d215-4618-b61b-3ad6f479d425",
   "metadata": {},
   "outputs": [
    {
     "data": {
      "image/png": "[encoded data removed]",
      "text/plain": [
       "<Figure size 432x288 with 1 Axes>"
      ]
     },
     "metadata": {
      "needs_background": "light"
     },
     "output_type": "display_data"
    }
   ],
   "source": [
    "plt.scatter(lr.predict(X_pred_test), residuals);"
   ]
  },
  {
   "cell_type": "code",
   "execution_count": 23,
   "id": "9c606695-a5ee-4290-ae3e-bb4e336c8b0a",
   "metadata": {},
   "outputs": [
    {
     "data": {
      "image/png": "[encoded data removed]",
      "text/plain": [
       "<Figure size 432x288 with 1 Axes>"
      ]
     },
     "metadata": {
      "needs_background": "light"
     },
     "output_type": "display_data"
    }
   ],
   "source": [
    "plt.hist(residuals);"
   ]
  },
  {
   "cell_type": "markdown",
   "id": "be179dab-b9eb-4c2d-851e-80c4f5a5b23e",
   "metadata": {},
   "source": [
    "##  Stacking Regressor"
   ]
  },
  {
   "cell_type": "code",
   "execution_count": 25,
   "id": "ea401c50-3496-4351-8ccc-01d5d8606c19",
   "metadata": {},
   "outputs": [],
   "source": [
    "params = {'knn_pipe__knn__n_neighbors': [5, 6]}\n",
    "knn_pipe = Pipeline([\n",
    "        ('ss', StandardScaler()),\n",
    "        ('knn', KNeighborsRegressor())\n",
    "    ])\n",
    "gs = GridSearchCV(knn_pipe, param_grid=params)"
   ]
  },
  {
   "cell_type": "code",
   "execution_count": 26,
   "id": "2c6e5f8f-a346-4363-aacc-3b6e3842aa67",
   "metadata": {},
   "outputs": [],
   "source": [
    "# Create the model\n",
    "level1_models = [\n",
    "    ('bag', BaggingRegressor()),\n",
    "    ('knn_pipe', Pipeline([\n",
    "        ('ss', StandardScaler()),\n",
    "        ('knn', KNeighborsRegressor())\n",
    "    ])),\n",
    "    ('lasso_pipe', Pipeline([\n",
    "        ('ss', StandardScaler()),\n",
    "        ('lasso', LassoCV())\n",
    "    ]))\n",
    "]\n",
    "\n",
    "stack = StackingRegressor(estimators=level1_models, final_estimator=LinearRegression())"
   ]
  },
  {
   "cell_type": "code",
   "execution_count": 29,
   "id": "02b0dfbc-5c04-4197-a33c-f53d2f17dba3",
   "metadata": {},
   "outputs": [
    {
     "data": {
      "text/plain": [
       "0.9530948844259921"
      ]
     },
     "execution_count": 29,
     "metadata": {},
     "output_type": "execute_result"
    }
   ],
   "source": [
    "# Cross-val score\n",
    "cross_val_score(stack, X_train, y_train).mean()"
   ]
  },
  {
   "cell_type": "code",
   "execution_count": 31,
   "id": "edb61086-e21e-433a-82f9-7af32a44afb9",
   "metadata": {},
   "outputs": [],
   "source": [
    "# Fit\n",
    "stack.fit(X_train, y_train);"
   ]
  },
  {
   "cell_type": "code",
   "execution_count": 32,
   "id": "7da0da46-d044-4865-96fc-a4796288d159",
   "metadata": {},
   "outputs": [
    {
     "data": {
      "text/plain": [
       "0.9974846024396149"
      ]
     },
     "execution_count": 32,
     "metadata": {},
     "output_type": "execute_result"
    }
   ],
   "source": [
    "# Train score\n",
    "stack.score(X_train, y_train)"
   ]
  },
  {
   "cell_type": "code",
   "execution_count": 33,
   "id": "f57c6b26-be18-406d-b30c-d656b32d732c",
   "metadata": {},
   "outputs": [
    {
     "data": {
      "text/plain": [
       "0.9966445915768032"
      ]
     },
     "execution_count": 33,
     "metadata": {},
     "output_type": "execute_result"
    }
   ],
   "source": [
    "# Test score\n",
    "stack.score(X_test, y_test)"
   ]
  },
  {
   "cell_type": "code",
   "execution_count": null,
   "id": "d41ade08-817b-4281-ab1b-7227187a2bec",
   "metadata": {},
   "outputs": [],
   "source": []
  }
 ],
 "metadata": {
  "kernelspec": {
   "display_name": "Python 3 (ipykernel)",
   "language": "python",
   "name": "python3"
  },
  "language_info": {
   "codemirror_mode": {
    "name": "ipython",
    "version": 3
   },
   "file_extension": ".py",
   "mimetype": "text/x-python",
   "name": "python",
   "nbconvert_exporter": "python",
   "pygments_lexer": "ipython3",
   "version": "3.9.7"
  }
 },
 "nbformat": 4,
 "nbformat_minor": 5
}
