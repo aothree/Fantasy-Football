{
 "cells": [
  {
   "cell_type": "code",
   "execution_count": 1,
   "id": "d4b992dd-f7c8-47eb-8379-5343ba86350c",
   "metadata": {},
   "outputs": [],
   "source": [
    "import pandas as pd\n",
    "import numpy as np\n",
    "import requests\n",
    "import os\n",
    "import re\n",
    "\n",
    "pd.set_option('display.max_columns', None)\n",
    "pd.set_option('display.max_rows', None)"
   ]
  },
  {
   "cell_type": "markdown",
   "id": "0f2145ad-f781-4885-9608-e038863e485e",
   "metadata": {},
   "source": [
    "### Read in stats and weather"
   ]
  },
  {
   "cell_type": "code",
   "execution_count": 2,
   "id": "2936bfa6-4542-47f9-8730-136ce9b496e1",
   "metadata": {},
   "outputs": [
    {
     "name": "stdout",
     "output_type": "stream",
     "text": [
      "the shape of rushing is (106, 12)\n",
      "the shape of receiving is (175, 12)\n",
      "the shape of passing is (26, 13)\n"
     ]
    }
   ],
   "source": [
    "# Read in Stats\n",
    "rushing = pd.read_csv('./nfl_data/weekly/cbs_weekly/rushing_through_week-23.csv')\n",
    "receiving = pd.read_csv('./nfl_data/weekly/cbs_weekly/receiving_through_week-23.csv')\n",
    "passing = pd.read_csv('./nfl_data/weekly/cbs_weekly/passing_through_week-23.csv')\n",
    "\n",
    "# Read in Weather\n",
    "weather = pd.read_csv('./nfl_data/weekly/weather/all_weeks_weather.csv')\n",
    "\n",
    "print(f'the shape of rushing is {rushing.shape}')\n",
    "print(f'the shape of receiving is {receiving.shape}')\n",
    "print(f'the shape of passing is {passing.shape}')"
   ]
  },
  {
   "cell_type": "code",
   "execution_count": 11,
   "id": "7136e7a1-b1d5-4392-b8ad-6a78d93023a3",
   "metadata": {},
   "outputs": [
    {
     "data": {
      "text/plain": [
       "((106, 12), (175, 12), (26, 13), (240, 10))"
      ]
     },
     "execution_count": 11,
     "metadata": {},
     "output_type": "execute_result"
    }
   ],
   "source": [
    "rushing.shape, receiving.shape, passing.shape, weather.shape"
   ]
  },
  {
   "cell_type": "markdown",
   "id": "e94f9f28-e66a-407e-b8db-15e90ffc0876",
   "metadata": {},
   "source": [
    "### merge rushing, receiving, passing into `stats` df"
   ]
  },
  {
   "cell_type": "code",
   "execution_count": null,
   "id": "f2017c70-49ba-4e63-a441-92422d12ba39",
   "metadata": {},
   "outputs": [],
   "source": [
    "# stats = pd.merge(---------)"
   ]
  },
  {
   "cell_type": "code",
   "execution_count": null,
   "id": "6ff068a5-d421-4b25-8a6e-65b27a4d9162",
   "metadata": {},
   "outputs": [],
   "source": []
  },
  {
   "cell_type": "code",
   "execution_count": null,
   "id": "f03cb4c5-c569-4a41-b7aa-0bba95aa9e56",
   "metadata": {},
   "outputs": [],
   "source": []
  },
  {
   "cell_type": "code",
   "execution_count": null,
   "id": "42bb81fb-fd47-423f-8313-831824724b5e",
   "metadata": {},
   "outputs": [],
   "source": []
  }
 ],
 "metadata": {
  "kernelspec": {
   "display_name": "Python 3 (ipykernel)",
   "language": "python",
   "name": "python3"
  },
  "language_info": {
   "codemirror_mode": {
    "name": "ipython",
    "version": 3
   },
   "file_extension": ".py",
   "mimetype": "text/x-python",
   "name": "python",
   "nbconvert_exporter": "python",
   "pygments_lexer": "ipython3",
   "version": "3.9.7"
  }
 },
 "nbformat": 4,
 "nbformat_minor": 5
}
