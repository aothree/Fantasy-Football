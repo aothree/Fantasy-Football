{
 "cells": [
  {
   "cell_type": "code",
   "execution_count": 18,
   "id": "5d56a02e-d856-4f2f-8b7c-3d953a60f1b7",
   "metadata": {},
   "outputs": [],
   "source": [
    "import pandas as pd\n",
    "import numpy as np\n",
    "from sklearn.ensemble import RandomForestClassifier\n",
    "from sklearn.model_selection import train_test_split, GridSearchCV\n",
    "\n",
    "from sklearn.model_selection import cross_val_score"
   ]
  },
  {
   "cell_type": "code",
   "execution_count": 11,
   "id": "a3d503c2-af8a-4aa1-bf68-743d506c8305",
   "metadata": {},
   "outputs": [
    {
     "data": {
      "text/html": [
       "<div>\n",
       "<style scoped>\n",
       "    .dataframe tbody tr th:only-of-type {\n",
       "        vertical-align: middle;\n",
       "    }\n",
       "\n",
       "    .dataframe tbody tr th {\n",
       "        vertical-align: top;\n",
       "    }\n",
       "\n",
       "    .dataframe thead th {\n",
       "        text-align: right;\n",
       "    }\n",
       "</style>\n",
       "<table border=\"1\" class=\"dataframe\">\n",
       "  <thead>\n",
       "    <tr style=\"text-align: right;\">\n",
       "      <th></th>\n",
       "      <th>Player</th>\n",
       "      <th>Game</th>\n",
       "      <th>FPTS  Fantasy Points</th>\n",
       "      <th>REC  Receptions</th>\n",
       "      <th>YDS  Receiving Yards</th>\n",
       "      <th>TGT  Targets</th>\n",
       "      <th>TD  Receiving Touchdowns</th>\n",
       "      <th>ATT  Rushing Attempts</th>\n",
       "      <th>YDS  Rushing Yards</th>\n",
       "      <th>TD  Rushing Touchdowns</th>\n",
       "      <th>Week</th>\n",
       "      <th>Pos</th>\n",
       "    </tr>\n",
       "  </thead>\n",
       "  <tbody>\n",
       "    <tr>\n",
       "      <th>0</th>\n",
       "      <td>Kendrick Bourne</td>\n",
       "      <td>BUF 47 - NE 17</td>\n",
       "      <td>20</td>\n",
       "      <td>7</td>\n",
       "      <td>77</td>\n",
       "      <td>8</td>\n",
       "      <td>2</td>\n",
       "      <td>1</td>\n",
       "      <td>14</td>\n",
       "      <td>0</td>\n",
       "      <td>19</td>\n",
       "      <td>WR</td>\n",
       "    </tr>\n",
       "    <tr>\n",
       "      <th>1</th>\n",
       "      <td>Mike Evans</td>\n",
       "      <td>TB 31 - PHI 15</td>\n",
       "      <td>17</td>\n",
       "      <td>9</td>\n",
       "      <td>117</td>\n",
       "      <td>10</td>\n",
       "      <td>1</td>\n",
       "      <td>0</td>\n",
       "      <td>0</td>\n",
       "      <td>0</td>\n",
       "      <td>19</td>\n",
       "      <td>WR</td>\n",
       "    </tr>\n",
       "    <tr>\n",
       "      <th>2</th>\n",
       "      <td>Deebo Samuel</td>\n",
       "      <td>SF 23 - DAL 17</td>\n",
       "      <td>16</td>\n",
       "      <td>3</td>\n",
       "      <td>38</td>\n",
       "      <td>3</td>\n",
       "      <td>0</td>\n",
       "      <td>10</td>\n",
       "      <td>72</td>\n",
       "      <td>1</td>\n",
       "      <td>19</td>\n",
       "      <td>WR</td>\n",
       "    </tr>\n",
       "    <tr>\n",
       "      <th>3</th>\n",
       "      <td>Byron Pringle</td>\n",
       "      <td>KC 42 - PIT 21</td>\n",
       "      <td>15</td>\n",
       "      <td>5</td>\n",
       "      <td>37</td>\n",
       "      <td>7</td>\n",
       "      <td>2</td>\n",
       "      <td>0</td>\n",
       "      <td>0</td>\n",
       "      <td>0</td>\n",
       "      <td>19</td>\n",
       "      <td>WR</td>\n",
       "    </tr>\n",
       "    <tr>\n",
       "      <th>4</th>\n",
       "      <td>Ja'Marr Chase</td>\n",
       "      <td>CIN 26 - LV 19</td>\n",
       "      <td>13</td>\n",
       "      <td>9</td>\n",
       "      <td>116</td>\n",
       "      <td>12</td>\n",
       "      <td>0</td>\n",
       "      <td>3</td>\n",
       "      <td>23</td>\n",
       "      <td>0</td>\n",
       "      <td>19</td>\n",
       "      <td>WR</td>\n",
       "    </tr>\n",
       "  </tbody>\n",
       "</table>\n",
       "</div>"
      ],
      "text/plain": [
       "            Player            Game  FPTS  Fantasy Points  REC  Receptions  \\\n",
       "0  Kendrick Bourne  BUF 47 - NE 17                    20                7   \n",
       "1       Mike Evans  TB 31 - PHI 15                    17                9   \n",
       "2     Deebo Samuel  SF 23 - DAL 17                    16                3   \n",
       "3    Byron Pringle  KC 42 - PIT 21                    15                5   \n",
       "4    Ja'Marr Chase  CIN 26 - LV 19                    13                9   \n",
       "\n",
       "   YDS  Receiving Yards  TGT  Targets  TD  Receiving Touchdowns  \\\n",
       "0                    77             8                         2   \n",
       "1                   117            10                         1   \n",
       "2                    38             3                         0   \n",
       "3                    37             7                         2   \n",
       "4                   116            12                         0   \n",
       "\n",
       "   ATT  Rushing Attempts  YDS  Rushing Yards  TD  Rushing Touchdowns  Week Pos  \n",
       "0                      1                  14                       0    19  WR  \n",
       "1                      0                   0                       0    19  WR  \n",
       "2                     10                  72                       1    19  WR  \n",
       "3                      0                   0                       0    19  WR  \n",
       "4                      3                  23                       0    19  WR  "
      ]
     },
     "execution_count": 11,
     "metadata": {},
     "output_type": "execute_result"
    }
   ],
   "source": [
    "df = pd.read_csv('./nfl_data/weekly/cbs_weekly/receiving_through_week-23.csv')\n",
    "df.head()"
   ]
  },
  {
   "cell_type": "code",
   "execution_count": 12,
   "id": "442d1c0e-78d7-491b-8322-092b5ee6729e",
   "metadata": {},
   "outputs": [],
   "source": [
    "df.drop(columns = 'Pos', inplace = True)"
   ]
  },
  {
   "cell_type": "code",
   "execution_count": 16,
   "id": "9a7b8a14-7ae0-4972-b077-397a1fc511cd",
   "metadata": {},
   "outputs": [
    {
     "data": {
      "text/plain": [
       "(175, 11)"
      ]
     },
     "execution_count": 16,
     "metadata": {},
     "output_type": "execute_result"
    }
   ],
   "source": [
    "df.shape"
   ]
  },
  {
   "cell_type": "code",
   "execution_count": 13,
   "id": "94a696d4-e8a7-4eab-b426-c4bad3f07717",
   "metadata": {},
   "outputs": [],
   "source": [
    "# Create X and y\n",
    "X = df.drop(columns = ['Player', 'Game', 'FPTS  Fantasy Points'])\n",
    "y = df['FPTS  Fantasy Points']"
   ]
  },
  {
   "cell_type": "code",
   "execution_count": 23,
   "id": "c7140b19-5bc0-4941-9be6-79812068368e",
   "metadata": {},
   "outputs": [],
   "source": [
    "X_train, X_val, y_train, y_val = train_test_split(X, y, random_state=42) # in lecture we did stratify = y, but that throws an error"
   ]
  },
  {
   "cell_type": "code",
   "execution_count": 15,
   "id": "793729e5-ad09-4e91-b5dc-6125da6a2be7",
   "metadata": {},
   "outputs": [
    {
     "name": "stderr",
     "output_type": "stream",
     "text": [
      "C:\\Users\\aorfa\\anaconda3\\lib\\site-packages\\sklearn\\model_selection\\_split.py:666: UserWarning: The least populated class in y has only 1 members, which is less than n_splits=5.\n",
      "  warnings.warn((\"The least populated class in y has only %d\"\n"
     ]
    },
    {
     "data": {
      "text/plain": [
       "0.6797720797720798"
      ]
     },
     "execution_count": 15,
     "metadata": {},
     "output_type": "execute_result"
    }
   ],
   "source": [
    "rf = RandomForestClassifier()"
   ]
  },
  {
   "cell_type": "code",
   "execution_count": 19,
   "id": "cae2e2aa-d283-43e0-8242-7d81e1e5b892",
   "metadata": {},
   "outputs": [
    {
     "name": "stderr",
     "output_type": "stream",
     "text": [
      "C:\\Users\\aorfa\\anaconda3\\lib\\site-packages\\sklearn\\model_selection\\_split.py:666: UserWarning: The least populated class in y has only 1 members, which is less than n_splits=5.\n",
      "  warnings.warn((\"The least populated class in y has only %d\"\n"
     ]
    },
    {
     "name": "stdout",
     "output_type": "stream",
     "text": [
      "0.7028490028490029\n"
     ]
    },
    {
     "data": {
      "text/plain": [
       "{'max_depth': None, 'max_features': 3, 'n_estimators': 125}"
      ]
     },
     "execution_count": 19,
     "metadata": {},
     "output_type": "execute_result"
    }
   ],
   "source": [
    "params = {\n",
    "    'n_estimators': [75, 100, 125],\n",
    "    'max_depth': [None, 3, 4, 5],\n",
    "    'max_features': ['auto', 3, 4, 5]\n",
    "}\n",
    "gs = GridSearchCV(RandomForestClassifier(random_state=42), param_grid=params, verbose=0)\n",
    "gs.fit(X_train, y_train)\n",
    "print(gs.best_score_)\n",
    "gs.best_params_"
   ]
  },
  {
   "cell_type": "code",
   "execution_count": 20,
   "id": "1bd92dcd-b4f4-41b6-a7ad-f8cd360a58b4",
   "metadata": {},
   "outputs": [
    {
     "data": {
      "text/plain": [
       "0.7272727272727273"
      ]
     },
     "execution_count": 20,
     "metadata": {},
     "output_type": "execute_result"
    }
   ],
   "source": [
    "gs.score(X_val, y_val)"
   ]
  },
  {
   "cell_type": "code",
   "execution_count": null,
   "id": "12341411-1f98-4125-9f91-38ce31ad4b9e",
   "metadata": {},
   "outputs": [],
   "source": []
  },
  {
   "cell_type": "code",
   "execution_count": null,
   "id": "08403a17-830e-46f8-90a6-44b869016c61",
   "metadata": {},
   "outputs": [],
   "source": []
  },
  {
   "cell_type": "code",
   "execution_count": null,
   "id": "1834bd14-e21e-45c7-952b-cc2b148cdfc1",
   "metadata": {},
   "outputs": [],
   "source": []
  },
  {
   "cell_type": "code",
   "execution_count": null,
   "id": "342a5799-bf20-4d9c-8bd1-975053a94b98",
   "metadata": {},
   "outputs": [],
   "source": []
  },
  {
   "cell_type": "code",
   "execution_count": null,
   "id": "72253c11-7eae-4dd5-af56-d70c7d8ec1c5",
   "metadata": {},
   "outputs": [],
   "source": []
  },
  {
   "cell_type": "code",
   "execution_count": null,
   "id": "abc2d3e5-f9d5-4dc8-a725-69c228b9a2a3",
   "metadata": {},
   "outputs": [],
   "source": []
  },
  {
   "cell_type": "code",
   "execution_count": null,
   "id": "8e57b5c7-91d5-4912-b2c3-51ba9eed58a2",
   "metadata": {},
   "outputs": [],
   "source": []
  }
 ],
 "metadata": {
  "kernelspec": {
   "display_name": "Python 3 (ipykernel)",
   "language": "python",
   "name": "python3"
  },
  "language_info": {
   "codemirror_mode": {
    "name": "ipython",
    "version": 3
   },
   "file_extension": ".py",
   "mimetype": "text/x-python",
   "name": "python",
   "nbconvert_exporter": "python",
   "pygments_lexer": "ipython3",
   "version": "3.9.7"
  }
 },
 "nbformat": 4,
 "nbformat_minor": 5
}
