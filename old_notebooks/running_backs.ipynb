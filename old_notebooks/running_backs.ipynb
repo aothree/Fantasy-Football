{
 "cells": [
  {
   "cell_type": "code",
   "execution_count": 1,
   "id": "4d38bae2-ec78-4248-9125-2e163896495e",
   "metadata": {},
   "outputs": [],
   "source": [
    "import pandas as pd\n",
    "import requests\n",
    "import time\n",
    "import numpy as np\n",
    "pd.options.display.max_columns = 999\n",
    "pd.set_option('display.max_columns', None)\n",
    "pd.set_option('display.max_rows', None)"
   ]
  },
  {
   "cell_type": "markdown",
   "id": "be495582-3871-4e67-985e-c093fae428a6",
   "metadata": {
    "tags": []
   },
   "source": [
    "### Scrape RB categories. All on a per-game basis.\n",
    "\n",
    "- Categories: \n",
    "\n",
    "- Sub-categories: Home games, Division Games, L2 Weeks, L4 weeks, Vs Top 10"
   ]
  },
  {
   "cell_type": "code",
   "execution_count": 2,
   "id": "2212d2cf-2a14-442f-afa6-e82248ea5636",
   "metadata": {},
   "outputs": [
    {
     "name": "stdout",
     "output_type": "stream",
     "text": [
      "('rushing-plays', 'home') (100, 5)\n",
      "('rushing-plays', 'division') (100, 5)\n",
      "('rushing-plays', 'last_2_weeks') (100, 5)\n",
      "('rushing-plays', 'last_4_weeks') (100, 5)\n",
      "('rushing-plays', 'top_10_nfl') (100, 5)\n",
      "('rushing-net-yards', 'home') (100, 5)\n",
      "('rushing-net-yards', 'division') (100, 5)\n",
      "('rushing-net-yards', 'last_2_weeks') (100, 5)\n",
      "('rushing-net-yards', 'last_4_weeks') (100, 5)\n",
      "('rushing-net-yards', 'top_10_nfl') (100, 5)\n",
      "('rushing-yards-per-attempt', 'home') (67, 5)\n",
      "('rushing-yards-per-attempt', 'division') (88, 5)\n",
      "('rushing-yards-per-attempt', 'last_2_weeks') (2, 5)\n",
      "('rushing-yards-per-attempt', 'last_4_weeks') (11, 5)\n",
      "('rushing-yards-per-attempt', 'top_10_nfl') (100, 5)\n",
      "('rushing-touchdowns', 'home') (100, 5)\n",
      "('rushing-touchdowns', 'division') (100, 5)\n",
      "('rushing-touchdowns', 'last_2_weeks') (100, 5)\n",
      "('rushing-touchdowns', 'last_4_weeks') (100, 5)\n",
      "('rushing-touchdowns', 'top_10_nfl') (100, 5)\n",
      "('rushing-longest-yards', 'home') (100, 5)\n",
      "('rushing-longest-yards', 'division') (100, 5)\n",
      "('rushing-longest-yards', 'last_2_weeks') (100, 5)\n",
      "('rushing-longest-yards', 'last_4_weeks') (100, 5)\n",
      "('rushing-longest-yards', 'top_10_nfl') (100, 5)\n",
      "('rushing-2pt-conversions-succeeded', 'home') (100, 5)\n",
      "('rushing-2pt-conversions-succeeded', 'division') (100, 5)\n",
      "('rushing-2pt-conversions-succeeded', 'last_2_weeks') (100, 5)\n",
      "('rushing-2pt-conversions-succeeded', 'last_4_weeks') (100, 5)\n",
      "('rushing-2pt-conversions-succeeded', 'top_10_nfl') (100, 5)\n"
     ]
    }
   ],
   "source": [
    "stats = ['rushing-plays', 'rushing-net-yards', 'rushing-yards-per-attempt', 'rushing-touchdowns', \n",
    "        'rushing-longest-yards', 'rushing-2pt-conversions-succeeded']\n",
    "\n",
    "sub_cats = ['home', 'division', 'last_2_weeks','last_4_weeks', 'top_10_nfl']\n",
    "\n",
    "file_list = []\n",
    "\n",
    "for stat in stats:\n",
    "    for cat in sub_cats:\n",
    "        url = f'https://www.teamrankings.com/nfl/player-stat/{stat}?split={cat}&rate=per-game'\n",
    "        resp = requests.get(url)\n",
    "        output = open(f'./nfl_data/{stat}_{cat}.xls', 'wb')\n",
    "        output.write(resp.content)\n",
    "        file_list.append(f'./nfl_data/{stat}_{cat}.xls')\n",
    "        output.close() \n",
    "        data = pd.read_html(f'./nfl_data/{stat}_{cat}.xls')\n",
    "        df = pd.DataFrame(data[0]) \n",
    "        print((stat, cat), df.shape)"
   ]
  },
  {
   "cell_type": "markdown",
   "id": "e62ab2a3-042b-4f89-a4f2-8cb149f5b7ed",
   "metadata": {},
   "source": [
    "### Loop through all files and merge into one df"
   ]
  },
  {
   "cell_type": "code",
   "execution_count": 3,
   "id": "71e54ebf-20ab-47fb-a346-937625004df9",
   "metadata": {},
   "outputs": [],
   "source": [
    "# get df started with the 1st file.  This way we have something to merge to.\n",
    "\n",
    "df_rb = pd.read_html('./nfl_data/rushing-plays_home.xls')\n",
    "df_rb = pd.DataFrame(df_rb[0]) \n",
    "#df_rb = df_rb.loc[(df_rb['Pos'] == 'RB')].copy() # filter out non-rbs if wanting to model for ONLY RBs (non-Flex)\n",
    "df_rb.drop(columns = 'Rank', inplace = True) \n",
    "col_name = file_list[0][11:-4]\n",
    "df_rb.rename(columns = {'Value': col_name}, inplace = True)"
   ]
  },
  {
   "cell_type": "code",
   "execution_count": 4,
   "id": "02dfdf0b-882b-47c5-b3e3-0db02018d470",
   "metadata": {},
   "outputs": [
    {
     "data": {
      "text/plain": [
       "(100, 4)"
      ]
     },
     "execution_count": 4,
     "metadata": {},
     "output_type": "execute_result"
    }
   ],
   "source": [
    "df_rb.shape"
   ]
  },
  {
   "cell_type": "code",
   "execution_count": 5,
   "id": "daca52ad-3327-4627-b197-f959935dae37",
   "metadata": {},
   "outputs": [
    {
     "name": "stdout",
     "output_type": "stream",
     "text": [
      "The shape of the merged df is (114, 5)\n",
      "The shape of the merged df is (209, 6)\n",
      "The shape of the merged df is (272, 7)\n",
      "The shape of the merged df is (285, 8)\n",
      "The shape of the merged df is (288, 9)\n",
      "The shape of the merged df is (291, 10)\n",
      "The shape of the merged df is (292, 11)\n",
      "The shape of the merged df is (297, 12)\n",
      "The shape of the merged df is (301, 13)\n",
      "The shape of the merged df is (301, 14)\n",
      "The shape of the merged df is (301, 15)\n",
      "The shape of the merged df is (301, 16)\n",
      "The shape of the merged df is (301, 17)\n",
      "The shape of the merged df is (307, 18)\n",
      "The shape of the merged df is (318, 19)\n",
      "The shape of the merged df is (331, 20)\n",
      "The shape of the merged df is (331, 21)\n",
      "The shape of the merged df is (339, 22)\n",
      "The shape of the merged df is (350, 23)\n",
      "The shape of the merged df is (357, 24)\n",
      "The shape of the merged df is (365, 25)\n",
      "The shape of the merged df is (365, 26)\n",
      "The shape of the merged df is (365, 27)\n",
      "The shape of the merged df is (372, 28)\n",
      "The shape of the merged df is (452, 29)\n",
      "The shape of the merged df is (524, 30)\n",
      "The shape of the merged df is (524, 31)\n",
      "The shape of the merged df is (528, 32)\n",
      "The shape of the merged df is (590, 33)\n"
     ]
    }
   ],
   "source": [
    "for file in file_list[1:]:\n",
    "    data = pd.read_html(file)\n",
    "    df = pd.DataFrame(data[0])\n",
    "    #df = df.loc[(df['Pos'] == 'RB')].copy() # filter out non-rbs if wanting to model for ONLY RBs (non-Flex)\n",
    "    df.drop(columns = ['Rank', 'Team', 'Pos'], inplace = True) \n",
    "    col_name = file[11:-4]\n",
    "    df.rename(columns = {'Value': col_name}, inplace = True)    \n",
    "    df_rb = pd.merge(df_rb, df, on = ['Player'], how = 'outer')\n",
    "    print(f'The shape of the merged df is {df_rb.shape}')"
   ]
  },
  {
   "cell_type": "code",
   "execution_count": 6,
   "id": "040b7079-084d-4aad-bed5-e81f58a4b14f",
   "metadata": {},
   "outputs": [
    {
     "data": {
      "text/plain": [
       "(590, 33)"
      ]
     },
     "execution_count": 6,
     "metadata": {},
     "output_type": "execute_result"
    }
   ],
   "source": [
    "df_rb.shape"
   ]
  },
  {
   "cell_type": "code",
   "execution_count": 7,
   "id": "964241d1-cdc9-471c-bb7c-b89c742375ef",
   "metadata": {},
   "outputs": [
    {
     "name": "stdout",
     "output_type": "stream",
     "text": [
      "need to clean column: Player\n",
      "need to clean column: Team\n",
      "need to clean column: Pos\n",
      "success!\n",
      "success!\n",
      "need to clean column: rushing-plays_last_2_weeks\n",
      "need to clean column: rushing-plays_last_4_weeks\n",
      "success!\n",
      "success!\n",
      "success!\n",
      "need to clean column: rushing-net-yards_last_2_weeks\n",
      "need to clean column: rushing-net-yards_last_4_weeks\n",
      "success!\n",
      "success!\n",
      "success!\n",
      "success!\n",
      "success!\n",
      "success!\n",
      "success!\n",
      "success!\n",
      "need to clean column: rushing-touchdowns_last_2_weeks\n",
      "need to clean column: rushing-touchdowns_last_4_weeks\n",
      "need to clean column: rushing-touchdowns_top_10_nfl\n",
      "success!\n",
      "success!\n",
      "success!\n",
      "success!\n",
      "success!\n",
      "need to clean column: rushing-2pt-conversions-succeeded_home\n",
      "need to clean column: rushing-2pt-conversions-succeeded_division\n",
      "need to clean column: rushing-2pt-conversions-succeeded_last_2_weeks\n",
      "need to clean column: rushing-2pt-conversions-succeeded_last_4_weeks\n",
      "need to clean column: rushing-2pt-conversions-succeeded_top_10_nfl\n"
     ]
    }
   ],
   "source": [
    "numcols_to_change = df_rb.columns\n",
    "numcols_to_change2 = []\n",
    "for col in numcols_to_change:\n",
    "    try:\n",
    "        df_rb[col] = df_rb[col].astype(float)\n",
    "        print('success!')\n",
    "    except:\n",
    "        numcols_to_change2.append(col)\n",
    "        print(f'need to clean column: {col}')"
   ]
  },
  {
   "cell_type": "code",
   "execution_count": 8,
   "id": "fd780795-c724-4240-9734-77b4f4061ebc",
   "metadata": {},
   "outputs": [],
   "source": [
    "def drop_rows(position):\n",
    "    for header in position.columns:\n",
    "        index_list = df_rb[df_rb.eq(\"--\").any(1)].index\n",
    "        position.drop(labels=index_list, axis=0, inplace=True)\n",
    "        return\n",
    "drop_rows(df_rb)"
   ]
  },
  {
   "cell_type": "code",
   "execution_count": 9,
   "id": "23bbecf0-f98c-42d8-bc6e-d9a422256084",
   "metadata": {},
   "outputs": [
    {
     "data": {
      "text/plain": [
       "(546, 33)"
      ]
     },
     "execution_count": 9,
     "metadata": {},
     "output_type": "execute_result"
    }
   ],
   "source": [
    "df_rb.shape"
   ]
  },
  {
   "cell_type": "code",
   "execution_count": 10,
   "id": "6068391a-821d-4b75-950f-3ec001a4ea39",
   "metadata": {},
   "outputs": [],
   "source": [
    "df_rb.fillna(0, inplace = True)"
   ]
  },
  {
   "cell_type": "code",
   "execution_count": 11,
   "id": "c7732414-4fd7-46ca-91f7-986c5723a2de",
   "metadata": {},
   "outputs": [
    {
     "data": {
      "text/plain": [
       "(546, 33)"
      ]
     },
     "execution_count": 11,
     "metadata": {},
     "output_type": "execute_result"
    }
   ],
   "source": [
    "df_rb.shape"
   ]
  },
  {
   "cell_type": "code",
   "execution_count": 12,
   "id": "36ef5ed1-b08b-4272-9702-2a57ebdb768c",
   "metadata": {},
   "outputs": [],
   "source": [
    "# remove suffixes\n",
    "df_rb['Player'] = df_rb['Player'].map(lambda x: x.split()[0] + ' ' + x.split()[1])"
   ]
  },
  {
   "cell_type": "code",
   "execution_count": 13,
   "id": "e38a7836-0033-4459-950f-e8b50dfa2951",
   "metadata": {},
   "outputs": [
    {
     "data": {
      "text/plain": [
       "(546, 33)"
      ]
     },
     "execution_count": 13,
     "metadata": {},
     "output_type": "execute_result"
    }
   ],
   "source": [
    "df_rb.shape"
   ]
  },
  {
   "cell_type": "markdown",
   "id": "f4cab235-ac73-42e6-a671-f35c89f4421c",
   "metadata": {},
   "source": [
    "### bring in football reference aggregage data"
   ]
  },
  {
   "cell_type": "code",
   "execution_count": 14,
   "id": "bba24506-f0af-430c-93b3-a1320ef126d8",
   "metadata": {
    "tags": []
   },
   "outputs": [
    {
     "data": {
      "text/html": [
       "<div>\n",
       "<style scoped>\n",
       "    .dataframe tbody tr th:only-of-type {\n",
       "        vertical-align: middle;\n",
       "    }\n",
       "\n",
       "    .dataframe tbody tr th {\n",
       "        vertical-align: top;\n",
       "    }\n",
       "\n",
       "    .dataframe thead th {\n",
       "        text-align: right;\n",
       "    }\n",
       "</style>\n",
       "<table border=\"1\" class=\"dataframe\">\n",
       "  <thead>\n",
       "    <tr style=\"text-align: right;\">\n",
       "      <th></th>\n",
       "      <th>Player</th>\n",
       "      <th>Tm</th>\n",
       "      <th>Pos</th>\n",
       "      <th>G</th>\n",
       "      <th>GS</th>\n",
       "      <th>Att</th>\n",
       "      <th>Yds</th>\n",
       "      <th>TD</th>\n",
       "      <th>1D</th>\n",
       "      <th>Lng</th>\n",
       "      <th>Y/A</th>\n",
       "      <th>Y/G</th>\n",
       "      <th>Fmb</th>\n",
       "    </tr>\n",
       "  </thead>\n",
       "  <tbody>\n",
       "    <tr>\n",
       "      <th>0</th>\n",
       "      <td>Jonathan Taylor</td>\n",
       "      <td>IND</td>\n",
       "      <td>RB</td>\n",
       "      <td>17</td>\n",
       "      <td>17</td>\n",
       "      <td>332</td>\n",
       "      <td>1811</td>\n",
       "      <td>18</td>\n",
       "      <td>107</td>\n",
       "      <td>83</td>\n",
       "      <td>5.5</td>\n",
       "      <td>106.5</td>\n",
       "      <td>4</td>\n",
       "    </tr>\n",
       "    <tr>\n",
       "      <th>1</th>\n",
       "      <td>Najee Harris</td>\n",
       "      <td>PIT</td>\n",
       "      <td>RB</td>\n",
       "      <td>17</td>\n",
       "      <td>17</td>\n",
       "      <td>307</td>\n",
       "      <td>1200</td>\n",
       "      <td>7</td>\n",
       "      <td>62</td>\n",
       "      <td>37</td>\n",
       "      <td>3.9</td>\n",
       "      <td>70.6</td>\n",
       "      <td>0</td>\n",
       "    </tr>\n",
       "    <tr>\n",
       "      <th>2</th>\n",
       "      <td>Joe Mixon</td>\n",
       "      <td>CIN</td>\n",
       "      <td>RB</td>\n",
       "      <td>16</td>\n",
       "      <td>16</td>\n",
       "      <td>292</td>\n",
       "      <td>1205</td>\n",
       "      <td>13</td>\n",
       "      <td>60</td>\n",
       "      <td>32</td>\n",
       "      <td>4.1</td>\n",
       "      <td>75.3</td>\n",
       "      <td>2</td>\n",
       "    </tr>\n",
       "    <tr>\n",
       "      <th>3</th>\n",
       "      <td>Antonio Gibson</td>\n",
       "      <td>WAS</td>\n",
       "      <td>RB</td>\n",
       "      <td>16</td>\n",
       "      <td>14</td>\n",
       "      <td>258</td>\n",
       "      <td>1037</td>\n",
       "      <td>7</td>\n",
       "      <td>65</td>\n",
       "      <td>27</td>\n",
       "      <td>4.0</td>\n",
       "      <td>64.8</td>\n",
       "      <td>6</td>\n",
       "    </tr>\n",
       "    <tr>\n",
       "      <th>4</th>\n",
       "      <td>Dalvin Cook</td>\n",
       "      <td>MIN</td>\n",
       "      <td>RB</td>\n",
       "      <td>13</td>\n",
       "      <td>13</td>\n",
       "      <td>249</td>\n",
       "      <td>1159</td>\n",
       "      <td>6</td>\n",
       "      <td>57</td>\n",
       "      <td>66</td>\n",
       "      <td>4.7</td>\n",
       "      <td>89.2</td>\n",
       "      <td>3</td>\n",
       "    </tr>\n",
       "    <tr>\n",
       "      <th>5</th>\n",
       "      <td>Alvin Kamara</td>\n",
       "      <td>NOR</td>\n",
       "      <td>rb</td>\n",
       "      <td>13</td>\n",
       "      <td>10</td>\n",
       "      <td>240</td>\n",
       "      <td>898</td>\n",
       "      <td>4</td>\n",
       "      <td>42</td>\n",
       "      <td>30</td>\n",
       "      <td>3.7</td>\n",
       "      <td>69.1</td>\n",
       "      <td>0</td>\n",
       "    </tr>\n",
       "    <tr>\n",
       "      <th>6</th>\n",
       "      <td>Ezekiel Elliott</td>\n",
       "      <td>DAL</td>\n",
       "      <td>RB</td>\n",
       "      <td>17</td>\n",
       "      <td>17</td>\n",
       "      <td>237</td>\n",
       "      <td>1002</td>\n",
       "      <td>10</td>\n",
       "      <td>55</td>\n",
       "      <td>47</td>\n",
       "      <td>4.2</td>\n",
       "      <td>58.9</td>\n",
       "      <td>1</td>\n",
       "    </tr>\n",
       "    <tr>\n",
       "      <th>7</th>\n",
       "      <td>Nick Chubb</td>\n",
       "      <td>CLE</td>\n",
       "      <td>RB</td>\n",
       "      <td>14</td>\n",
       "      <td>14</td>\n",
       "      <td>228</td>\n",
       "      <td>1259</td>\n",
       "      <td>8</td>\n",
       "      <td>61</td>\n",
       "      <td>70</td>\n",
       "      <td>5.5</td>\n",
       "      <td>89.9</td>\n",
       "      <td>2</td>\n",
       "    </tr>\n",
       "    <tr>\n",
       "      <th>8</th>\n",
       "      <td>David Montgomery</td>\n",
       "      <td>CHI</td>\n",
       "      <td>RB</td>\n",
       "      <td>13</td>\n",
       "      <td>13</td>\n",
       "      <td>225</td>\n",
       "      <td>849</td>\n",
       "      <td>7</td>\n",
       "      <td>55</td>\n",
       "      <td>41</td>\n",
       "      <td>3.8</td>\n",
       "      <td>65.3</td>\n",
       "      <td>1</td>\n",
       "    </tr>\n",
       "    <tr>\n",
       "      <th>9</th>\n",
       "      <td>Derrick Henry</td>\n",
       "      <td>TEN</td>\n",
       "      <td>rb</td>\n",
       "      <td>8</td>\n",
       "      <td>8</td>\n",
       "      <td>219</td>\n",
       "      <td>937</td>\n",
       "      <td>10</td>\n",
       "      <td>49</td>\n",
       "      <td>76</td>\n",
       "      <td>4.3</td>\n",
       "      <td>117.1</td>\n",
       "      <td>1</td>\n",
       "    </tr>\n",
       "    <tr>\n",
       "      <th>10</th>\n",
       "      <td>Josh Jacobs</td>\n",
       "      <td>LVR</td>\n",
       "      <td>RB</td>\n",
       "      <td>15</td>\n",
       "      <td>14</td>\n",
       "      <td>217</td>\n",
       "      <td>872</td>\n",
       "      <td>9</td>\n",
       "      <td>45</td>\n",
       "      <td>28</td>\n",
       "      <td>4.0</td>\n",
       "      <td>58.1</td>\n",
       "      <td>2</td>\n",
       "    </tr>\n",
       "    <tr>\n",
       "      <th>11</th>\n",
       "      <td>Sony Michel</td>\n",
       "      <td>LAR</td>\n",
       "      <td>rb</td>\n",
       "      <td>17</td>\n",
       "      <td>7</td>\n",
       "      <td>208</td>\n",
       "      <td>845</td>\n",
       "      <td>4</td>\n",
       "      <td>49</td>\n",
       "      <td>39</td>\n",
       "      <td>4.1</td>\n",
       "      <td>49.7</td>\n",
       "      <td>1</td>\n",
       "    </tr>\n",
       "    <tr>\n",
       "      <th>12</th>\n",
       "      <td>Elijah Mitchell</td>\n",
       "      <td>SFO</td>\n",
       "      <td>rb</td>\n",
       "      <td>11</td>\n",
       "      <td>10</td>\n",
       "      <td>207</td>\n",
       "      <td>963</td>\n",
       "      <td>5</td>\n",
       "      <td>47</td>\n",
       "      <td>39</td>\n",
       "      <td>4.7</td>\n",
       "      <td>87.5</td>\n",
       "      <td>0</td>\n",
       "    </tr>\n",
       "    <tr>\n",
       "      <th>13</th>\n",
       "      <td>Austin Ekeler</td>\n",
       "      <td>LAC</td>\n",
       "      <td>RB</td>\n",
       "      <td>16</td>\n",
       "      <td>16</td>\n",
       "      <td>206</td>\n",
       "      <td>911</td>\n",
       "      <td>12</td>\n",
       "      <td>53</td>\n",
       "      <td>28</td>\n",
       "      <td>4.4</td>\n",
       "      <td>56.9</td>\n",
       "      <td>4</td>\n",
       "    </tr>\n",
       "    <tr>\n",
       "      <th>14</th>\n",
       "      <td>Melvin Gordon</td>\n",
       "      <td>DEN</td>\n",
       "      <td>RB</td>\n",
       "      <td>16</td>\n",
       "      <td>16</td>\n",
       "      <td>203</td>\n",
       "      <td>918</td>\n",
       "      <td>8</td>\n",
       "      <td>48</td>\n",
       "      <td>70</td>\n",
       "      <td>4.5</td>\n",
       "      <td>57.4</td>\n",
       "      <td>3</td>\n",
       "    </tr>\n",
       "  </tbody>\n",
       "</table>\n",
       "</div>"
      ],
      "text/plain": [
       "              Player   Tm Pos   G  GS  Att   Yds  TD   1D Lng  Y/A    Y/G Fmb\n",
       "0    Jonathan Taylor  IND  RB  17  17  332  1811  18  107  83  5.5  106.5   4\n",
       "1       Najee Harris  PIT  RB  17  17  307  1200   7   62  37  3.9   70.6   0\n",
       "2          Joe Mixon  CIN  RB  16  16  292  1205  13   60  32  4.1   75.3   2\n",
       "3     Antonio Gibson  WAS  RB  16  14  258  1037   7   65  27  4.0   64.8   6\n",
       "4        Dalvin Cook  MIN  RB  13  13  249  1159   6   57  66  4.7   89.2   3\n",
       "5       Alvin Kamara  NOR  rb  13  10  240   898   4   42  30  3.7   69.1   0\n",
       "6    Ezekiel Elliott  DAL  RB  17  17  237  1002  10   55  47  4.2   58.9   1\n",
       "7         Nick Chubb  CLE  RB  14  14  228  1259   8   61  70  5.5   89.9   2\n",
       "8   David Montgomery  CHI  RB  13  13  225   849   7   55  41  3.8   65.3   1\n",
       "9      Derrick Henry  TEN  rb   8   8  219   937  10   49  76  4.3  117.1   1\n",
       "10       Josh Jacobs  LVR  RB  15  14  217   872   9   45  28  4.0   58.1   2\n",
       "11       Sony Michel  LAR  rb  17   7  208   845   4   49  39  4.1   49.7   1\n",
       "12   Elijah Mitchell  SFO  rb  11  10  207   963   5   47  39  4.7   87.5   0\n",
       "13     Austin Ekeler  LAC  RB  16  16  206   911  12   53  28  4.4   56.9   4\n",
       "14     Melvin Gordon  DEN  RB  16  16  203   918   8   48  70  4.5   57.4   3"
      ]
     },
     "execution_count": 14,
     "metadata": {},
     "output_type": "execute_result"
    }
   ],
   "source": [
    "#bring in football reference data\n",
    "fr_rb = pd.read_html('./nfl_data/2021_rushing_stats.xls')\n",
    "fr_rb = pd.DataFrame(fr_rb[0]) # Saves df var to dataframe\n",
    "fr_rb.fillna(0, inplace=True)\n",
    "fr_rb = fr_rb.droplevel(0, axis=1)\n",
    "fr_rb['Player'] = fr_rb['Player'].map(lambda x: x.lstrip('*').rstrip('*').rstrip('+').rstrip('*'))\n",
    "fr_rb.drop(columns = ['Age', 'Rk'], inplace = True)\n",
    "fr_rb.head(15)"
   ]
  },
  {
   "cell_type": "code",
   "execution_count": 15,
   "id": "884f8071-db3a-4880-898f-74539cdfa9d4",
   "metadata": {},
   "outputs": [],
   "source": [
    "def drop_rows(df):\n",
    "    for header in df.columns:\n",
    "        index_list = df.loc[(df[header] == header)].index\n",
    "        df.drop(labels=index_list, axis=0, inplace = True)\n",
    "        return\n",
    "drop_rows(fr_rb)\n",
    "\n",
    "for float_col in fr_rb.columns[3:]:\n",
    "    fr_rb[f'{float_col}'] = fr_rb[f'{float_col}'].astype(float)"
   ]
  },
  {
   "cell_type": "code",
   "execution_count": 16,
   "id": "cb9cd7b9-2fb1-42b8-982e-61391e16c8aa",
   "metadata": {},
   "outputs": [
    {
     "data": {
      "text/plain": [
       "(371, 13)"
      ]
     },
     "execution_count": 16,
     "metadata": {},
     "output_type": "execute_result"
    }
   ],
   "source": [
    "fr_rb.shape"
   ]
  },
  {
   "cell_type": "code",
   "execution_count": 17,
   "id": "2beae218-17ce-4dab-ac40-ca9396169810",
   "metadata": {},
   "outputs": [],
   "source": [
    "# remove suffixes\n",
    "fr_rb['Player'] = fr_rb['Player'].map(lambda x: x.split()[0] + ' ' + x.split()[1])"
   ]
  },
  {
   "cell_type": "markdown",
   "id": "3fdc46d6-9c89-4d2a-970f-153e7163a59e",
   "metadata": {},
   "source": [
    "### merge teamrankings and football reference data"
   ]
  },
  {
   "cell_type": "code",
   "execution_count": 18,
   "id": "7e152b9f-a990-4bed-a557-332bd6b3dd91",
   "metadata": {},
   "outputs": [
    {
     "data": {
      "text/plain": [
       "(691, 45)"
      ]
     },
     "execution_count": 18,
     "metadata": {},
     "output_type": "execute_result"
    }
   ],
   "source": [
    "df_rb_all =pd.merge(fr_rb, df_rb, on = ['Player'], how = 'outer')\n",
    "df_rb_all.shape"
   ]
  },
  {
   "cell_type": "code",
   "execution_count": 19,
   "id": "f98313b0-04fd-49b5-a4fa-76100397b8ac",
   "metadata": {},
   "outputs": [],
   "source": [
    "x = {i : f'{i}_Tot' for i in df_rb_all.columns if len(i) < 18 and i not in ['Player', 'Tm', 'Pos_x', 'Pos_y', 'Team']}\n",
    "df_rb_all = df_rb_all.rename(columns = x)\n",
    "df_rb_all.rename(columns={'Pos_y': 'Pos'}, inplace=True)\n",
    "df_rb_all.drop(columns='Pos_x', inplace=True)\n",
    "x = {i : f'{i}_Avg' for i in df_rb_all.columns if len(i) >= 18}\n",
    "df_rb_all = df_rb_all.rename(columns = x)\n",
    "df_rb_all.rename(columns={'Tm': 'Tm_Abr'}, inplace=True)"
   ]
  },
  {
   "cell_type": "code",
   "execution_count": 20,
   "id": "ca6ef052-9c31-4bc1-8699-9e0d3e830894",
   "metadata": {},
   "outputs": [
    {
     "data": {
      "text/plain": [
       "(691, 44)"
      ]
     },
     "execution_count": 20,
     "metadata": {},
     "output_type": "execute_result"
    }
   ],
   "source": [
    "df_rb_all.shape"
   ]
  },
  {
   "cell_type": "code",
   "execution_count": 21,
   "id": "ba25cce1-a4b2-4b6f-83d9-211ea971021c",
   "metadata": {},
   "outputs": [],
   "source": [
    "df_rb_all.to_csv('./modeling_data/rushing.csv', index = 0)"
   ]
  }
 ],
 "metadata": {
  "kernelspec": {
   "display_name": "Python 3 (ipykernel)",
   "language": "python",
   "name": "python3"
  },
  "language_info": {
   "codemirror_mode": {
    "name": "ipython",
    "version": 3
   },
   "file_extension": ".py",
   "mimetype": "text/x-python",
   "name": "python",
   "nbconvert_exporter": "python",
   "pygments_lexer": "ipython3",
   "version": "3.9.7"
  }
 },
 "nbformat": 4,
 "nbformat_minor": 5
}
