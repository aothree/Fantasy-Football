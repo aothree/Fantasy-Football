{
 "cells": [
  {
   "cell_type": "code",
   "execution_count": null,
   "id": "4d38bae2-ec78-4248-9125-2e163896495e",
   "metadata": {},
   "outputs": [],
   "source": [
    "import pandas as pd\n",
    "import requests\n",
    "import time\n",
    "import numpy as np\n",
    "pd.options.display.max_columns = 999\n",
    "pd.set_option('display.max_columns', None)\n",
    "pd.set_option('display.max_rows', None)"
   ]
  },
  {
   "cell_type": "markdown",
   "id": "db975492-75ec-4e94-bc5e-4a7f46da1188",
   "metadata": {},
   "source": [
    "## QB"
   ]
  },
  {
   "cell_type": "markdown",
   "id": "34795b21-bee2-439f-bf30-45c43a3b49dc",
   "metadata": {},
   "source": [
    "### Pass Completions"
   ]
  },
  {
   "cell_type": "code",
   "execution_count": null,
   "id": "9c060894-9c1a-4b0e-a09c-8559fdfc040a",
   "metadata": {},
   "outputs": [],
   "source": [
    "url = 'https://www.teamrankings.com/nfl/player-stat/passing-plays-completed?split=&rate=per-game'\n",
    "resp = requests.get(url)\n",
    "resp.status_code, resp.text[:50]"
   ]
  },
  {
   "cell_type": "code",
   "execution_count": null,
   "id": "91be78bd-776c-49da-af8c-7b5ee53dd7a4",
   "metadata": {},
   "outputs": [],
   "source": [
    "output = open(f'../nfl_data/qb_completions.xls', 'wb')\n",
    "output.write(resp.content)\n",
    "output.close()"
   ]
  },
  {
   "cell_type": "code",
   "execution_count": null,
   "id": "5e147b4a-271d-4d58-8df7-89118da75a98",
   "metadata": {},
   "outputs": [],
   "source": [
    "qb_completions = pd.read_html('../nfl_data/qb_completions.xls')\n",
    "qb_completions = pd.DataFrame(qb_completions[0]) # Saves df var to dataframe\n",
    "qb_completions"
   ]
  },
  {
   "cell_type": "code",
   "execution_count": null,
   "id": "bb8867ea-52b2-405c-aed0-54f9e18f68b7",
   "metadata": {},
   "outputs": [],
   "source": [
    "# filter out non-quarterbacks\n",
    "qb_completions = qb_completions.loc[(qb_completions['Pos'] == 'QB')].copy()"
   ]
  },
  {
   "cell_type": "markdown",
   "id": "e98b655e-7fdb-4276-b7da-f426099b4913",
   "metadata": {},
   "source": [
    "### Pass Completions @ Home"
   ]
  },
  {
   "cell_type": "code",
   "execution_count": null,
   "id": "1533a1d2-252d-4e26-845b-6edaab806924",
   "metadata": {},
   "outputs": [],
   "source": [
    "url = 'https://www.teamrankings.com/nfl/player-stat/passing-plays-completed?split=home&rate=per-game'\n",
    "resp = requests.get(url)\n",
    "output = open(f'./nfl_data/qb_completions_home.xls', 'wb')\n",
    "output.write(resp.content)\n",
    "output.close()"
   ]
  },
  {
   "cell_type": "code",
   "execution_count": null,
   "id": "9b15374e-2086-4416-ba44-e94d0ed4638b",
   "metadata": {},
   "outputs": [],
   "source": [
    "qb_completions_home = pd.read_html('./nfl_data/qb_completions_home.xls')\n",
    "qb_completions_home = pd.DataFrame(qb_completions_home[0]) # Saves df var to dataframe\n",
    "qb_completions_home = qb_completions_home.loc[(qb_completions_home['Pos'] == 'QB')].copy()\n",
    "qb_completions_home"
   ]
  },
  {
   "cell_type": "markdown",
   "id": "2fce58a6-f6de-4cc7-8261-4b7bfea3a1c1",
   "metadata": {},
   "source": [
    "### Pass Completions last 2 wks"
   ]
  },
  {
   "cell_type": "code",
   "execution_count": null,
   "id": "2d624481-c3ab-4363-8bb3-7953c50fe049",
   "metadata": {},
   "outputs": [],
   "source": [
    "url = 'https://www.teamrankings.com/nfl/player-stat/passing-plays-completed?split=last_2_weeks&rate=per-game'\n",
    "resp = requests.get(url)\n",
    "output = open(f'../nfl_data/qb_completions_last2wks.xls', 'wb')\n",
    "output.write(resp.content)\n",
    "output.close()"
   ]
  },
  {
   "cell_type": "code",
   "execution_count": null,
   "id": "ba786ddd-dee3-4af0-9671-8f8393d12df7",
   "metadata": {},
   "outputs": [],
   "source": [
    "qb_completions_last2wks = pd.read_html('./nfl_data/qb_completions_home.xls')\n",
    "qb_completions_last2wks = pd.DataFrame(qb_completions_last2wks[0]) # Saves df var to dataframe\n",
    "qb_completions_last2wks = qb_completions_last2wks.loc[(qb_completions_last2wks['Pos'] == 'QB')].copy()\n",
    "qb_completions_last2wks"
   ]
  },
  {
   "cell_type": "markdown",
   "id": "be495582-3871-4e67-985e-c093fae428a6",
   "metadata": {
    "tags": []
   },
   "source": [
    "### Scrape 8 QB categories, each with 5 sub-categories.  All on a per-game basis.\n",
    "\n",
    "- Categories: Pass Completions, Pass Attempts, Passing Yards, Passing TD, INT, Longest Pass, QB Rating\n",
    "\n",
    "- Sub-categories: Home games, Division Games, L2 Weeks, L4 weeks, Vs Top 10"
   ]
  },
  {
   "cell_type": "code",
   "execution_count": null,
   "id": "2212d2cf-2a14-442f-afa6-e82248ea5636",
   "metadata": {},
   "outputs": [],
   "source": [
    "stats = ['passing-plays-completed', 'passing-plays-attempted', 'passing-gross-yards', 'passing-touchdowns', \n",
    "        'passing-plays-intercepted', 'passing-longest-yards', 'qb-rating-nfl', 'passing-2pt-conversions-succeeded']\n",
    "\n",
    "sub_cats = ['home', 'division', 'last_2_weeks','last_4_weeks', 'top_10_nfl']\n",
    "\n",
    "file_list = []\n",
    "\n",
    "for stat in stats:\n",
    "    for cat in sub_cats:\n",
    "        url = f'https://www.teamrankings.com/nfl/player-stat/{stat}?split={cat}&rate=per-game'\n",
    "        resp = requests.get(url)\n",
    "        output = open(f'../nfl_data/{stat}_{cat}.xls', 'wb')\n",
    "        output.write(resp.content)\n",
    "        file_list.append(f'../nfl_data/{stat}_{cat}.xls')\n",
    "        output.close() \n",
    "        data = pd.read_html(f'../nfl_data/{stat}_{cat}.xls')\n",
    "        df = pd.DataFrame(data[0]) \n",
    "        print((stat, cat), df.shape)"
   ]
  },
  {
   "cell_type": "markdown",
   "id": "e62ab2a3-042b-4f89-a4f2-8cb149f5b7ed",
   "metadata": {},
   "source": [
    "### Loop through all files and merge into one df"
   ]
  },
  {
   "cell_type": "code",
   "execution_count": null,
   "id": "71e54ebf-20ab-47fb-a346-937625004df9",
   "metadata": {},
   "outputs": [],
   "source": [
    "# get df started with the 1st file './nfl_data/passing-plays-completed_home.xls'.  This way we have something to merge to.\n",
    "\n",
    "df_qb = pd.read_html('../nfl_data/passing-plays-completed_home.xls')\n",
    "df_qb = pd.DataFrame(df_qb[0]) \n",
    "df_qb = df_qb.loc[(df_qb['Pos'] == 'QB')].copy() # filter out non-QBs\n",
    "df_qb.drop(columns = 'Rank', inplace = True) \n",
    "col_name = file_list[0][12:-4]\n",
    "df_qb.rename(columns = {'Value': col_name}, inplace = True)\n",
    "df_qb.head(2)"
   ]
  },
  {
   "cell_type": "code",
   "execution_count": null,
   "id": "daca52ad-3327-4627-b197-f959935dae37",
   "metadata": {},
   "outputs": [],
   "source": [
    "for file in file_list[1:]:\n",
    "    data = pd.read_html(file)\n",
    "    df = pd.DataFrame(data[0])\n",
    "    df = df.loc[(df['Pos'] == 'QB')].copy()\n",
    "    df.drop(columns = 'Rank', inplace = True) \n",
    "    col_name = file[12:-4]\n",
    "    df.rename(columns = {'Value': col_name}, inplace = True)    \n",
    "    df_qb = pd.merge(df_qb, df, on = ['Player', 'Team', 'Pos'], how = 'outer')\n",
    "    print(f'The shape of the merged df is {df_qb.shape}')"
   ]
  },
  {
   "cell_type": "code",
   "execution_count": null,
   "id": "040b7079-084d-4aad-bed5-e81f58a4b14f",
   "metadata": {},
   "outputs": [],
   "source": [
    "df_qb.shape"
   ]
  },
  {
   "cell_type": "code",
   "execution_count": null,
   "id": "a6c2fd67-12d7-4cda-98c6-a2842f6512b6",
   "metadata": {},
   "outputs": [],
   "source": [
    "df_qb.head(3)"
   ]
  },
  {
   "cell_type": "code",
   "execution_count": null,
   "id": "b52e612c-dbe5-456b-89e5-a82f321d9b41",
   "metadata": {},
   "outputs": [],
   "source": [
    "player_team = pd.Series(df_qb.Team.values,index=df_qb.Player).to_dict()\n",
    "player_team"
   ]
  },
  {
   "cell_type": "markdown",
   "id": "e0087552-e365-472a-9d7a-5e59c0f767ff",
   "metadata": {},
   "source": [
    "### Convert all numerical columns to int or float"
   ]
  },
  {
   "cell_type": "code",
   "execution_count": null,
   "id": "d336964e-d817-49e8-90ea-f49309c2b950",
   "metadata": {},
   "outputs": [],
   "source": [
    "df_qb.dtypes"
   ]
  },
  {
   "cell_type": "code",
   "execution_count": null,
   "id": "e0cc78fa-0f16-4364-b26c-10d5931398c7",
   "metadata": {},
   "outputs": [],
   "source": [
    "numcols_to_change = ['passing-plays-completed_home', 'passing-plays-completed_division', 'passing-plays-completed_last_2_weeks', 'passing-plays-completed_last_4_weeks',\n",
    "                     'passing-plays-completed_top_10_nfl', 'passing-plays-attempted_division', 'passing-plays-attempted_last_2_weeks', 'passing-plays-attempted_last_4_weeks',\n",
    "                     'passing-plays-attempted_top_10_nfl', 'passing-gross-yards_home', 'passing-gross-yards_division', 'passing-gross-yards_last_2_weeks', 'passing-gross-yards_last_4_weeks',\n",
    "                     'passing-gross-yards_top_10_nfl', 'passing-touchdowns_home', 'passing-touchdowns_division', 'passing-touchdowns_last_2_weeks', 'passing-touchdowns_last_4_weeks',\n",
    "                     'passing-touchdowns_top_10_nfl', 'passing-plays-intercepted_home', 'passing-plays-intercepted_division', 'passing-plays-intercepted_last_2_weeks', 'passing-plays-intercepted_last_4_weeks',\n",
    "                     'passing-plays-intercepted_top_10_nfl', 'passing-2pt-conversions-succeeded_home', 'passing-2pt-conversions-succeeded_division', 'passing-2pt-conversions-succeeded_last_2_weeks',\n",
    "                    'passing-2pt-conversions-succeeded_last_4_weeks', 'passing-2pt-conversions-succeeded_top_10_nfl']\n",
    "# need to clean these 17 columns and convert to int or float, before merge"
   ]
  },
  {
   "cell_type": "code",
   "execution_count": null,
   "id": "fd780795-c724-4240-9734-77b4f4061ebc",
   "metadata": {},
   "outputs": [],
   "source": [
    "def drop_rows(position):\n",
    "    for header in position.columns:\n",
    "        index_list = df_qb[df_qb.eq(\"--\").any(1)].index\n",
    "        position.drop(labels=index_list, axis=0, inplace=True)\n",
    "        return\n",
    "drop_rows(df_qb)"
   ]
  },
  {
   "cell_type": "code",
   "execution_count": null,
   "id": "964241d1-cdc9-471c-bb7c-b89c742375ef",
   "metadata": {},
   "outputs": [],
   "source": [
    "numcols_to_change2 = []\n",
    "for col in numcols_to_change:\n",
    "    try:\n",
    "        df_qb[col] = df_qb[col].astype(float)\n",
    "        print('success!')\n",
    "    except:\n",
    "        numcols_to_change2.append(col)\n",
    "        print(f'need to clean column: {col}')"
   ]
  },
  {
   "cell_type": "code",
   "execution_count": null,
   "id": "6068391a-821d-4b75-950f-3ec001a4ea39",
   "metadata": {},
   "outputs": [],
   "source": [
    "df_qb.fillna(0, inplace = True)"
   ]
  },
  {
   "cell_type": "code",
   "execution_count": null,
   "id": "c7732414-4fd7-46ca-91f7-986c5723a2de",
   "metadata": {},
   "outputs": [],
   "source": [
    "# removes suffixes\n",
    "df_qb['Player'] =df_qb['Player'].map(lambda x: x.split()[0] + ' ' + x.split()[1])"
   ]
  },
  {
   "cell_type": "markdown",
   "id": "f4cab235-ac73-42e6-a671-f35c89f4421c",
   "metadata": {},
   "source": [
    "### bring in football reference aggregage data"
   ]
  },
  {
   "cell_type": "code",
   "execution_count": null,
   "id": "bba24506-f0af-430c-93b3-a1320ef126d8",
   "metadata": {
    "tags": []
   },
   "outputs": [],
   "source": [
    "#bring in football reference data\n",
    "fr_qb = pd.read_html('./nfl_data/2021_passing_stats.xls')\n",
    "fr_qb = pd.DataFrame(fr_qb[0]) # Saves df var to dataframe\n",
    "fr_qb.fillna(0, inplace=True)\n",
    "fr_qb['Player'] = fr_qb['Player'].map(lambda x: x.lstrip('*').rstrip('*').rstrip('+').rstrip('*'))\n",
    "fr_qb.drop(columns = ['Rk', 'Age', 'QBrec', '4QC', 'GWD', 'G', 'GS'], inplace = True)\n",
    "fr_qb.head(15)"
   ]
  },
  {
   "cell_type": "code",
   "execution_count": null,
   "id": "e2623634-7295-4d3e-81c0-bcc09832bbc9",
   "metadata": {},
   "outputs": [],
   "source": [
    "fr_qb.shape"
   ]
  },
  {
   "cell_type": "code",
   "execution_count": null,
   "id": "884f8071-db3a-4880-898f-74539cdfa9d4",
   "metadata": {},
   "outputs": [],
   "source": [
    "def drop_rows(df):\n",
    "    for header in df.columns:\n",
    "        index_list = df.loc[(df[header] == header)].index\n",
    "        df.drop(labels=index_list, axis=0, inplace = True)\n",
    "        return\n",
    "drop_rows(fr_qb)\n",
    "\n",
    "int_cols = ['Cmp', 'Att', 'Yds', 'TD', 'Int', '1D', 'Lng', 'Sk', 'Yds.1']\n",
    "float_cols = ['Cmp%', 'TD%', 'Int%', 'Y/A', 'AY/A', 'Y/C', 'Y/G', 'Rate', 'QBR', 'Rate', 'NY/A', 'ANY/A', 'Sk%']\n",
    "\n",
    "for int_col in int_cols:\n",
    "    fr_qb[f'{int_col}'] = fr_qb[f'{int_col}'].astype(int)\n",
    "\n",
    "for float_col in float_cols:\n",
    "    fr_qb[f'{float_col}'] = fr_qb[f'{float_col}'].astype(float)"
   ]
  },
  {
   "cell_type": "code",
   "execution_count": null,
   "id": "1359cc85-cc0c-4e77-aeb2-7b773b31f7d1",
   "metadata": {
    "tags": []
   },
   "outputs": [],
   "source": [
    "fr_qb.shape, df_qb.shape"
   ]
  },
  {
   "cell_type": "code",
   "execution_count": null,
   "id": "c0d493d7-b0aa-45ff-a707-9b94776487a6",
   "metadata": {},
   "outputs": [],
   "source": [
    "# removes suffixes\n",
    "fr_qb['Player'] =fr_qb['Player'].map(lambda x: x.split()[0] + ' ' + x.split()[1])"
   ]
  },
  {
   "cell_type": "markdown",
   "id": "3fdc46d6-9c89-4d2a-970f-153e7163a59e",
   "metadata": {},
   "source": [
    "### merge teamrankings and football reference data"
   ]
  },
  {
   "cell_type": "code",
   "execution_count": null,
   "id": "7e152b9f-a990-4bed-a557-332bd6b3dd91",
   "metadata": {},
   "outputs": [],
   "source": [
    "df_qb_all =pd.merge(fr_qb, df_qb, on = ['Player'], how = 'inner')\n",
    "df_qb_all.shape"
   ]
  },
  {
   "cell_type": "code",
   "execution_count": null,
   "id": "ca6ef052-9c31-4bc1-8699-9e0d3e830894",
   "metadata": {},
   "outputs": [],
   "source": [
    "df_qb_all.head(15)"
   ]
  },
  {
   "cell_type": "code",
   "execution_count": null,
   "id": "f98313b0-04fd-49b5-a4fa-76100397b8ac",
   "metadata": {},
   "outputs": [],
   "source": [
    "x = {i : f'{i}_Tot' for i in df_qb_all.columns if len(i) < 18 and i not in ['Player', 'Tm', 'Pos', 'Team']}\n",
    "df_qb_all = df_qb_all.rename(columns = x)"
   ]
  },
  {
   "cell_type": "code",
   "execution_count": null,
   "id": "8bc657b7-46c9-4bbb-9f3a-823bbf6d04b5",
   "metadata": {
    "tags": []
   },
   "outputs": [],
   "source": [
    "x = {i : f'{i}_Avg' for i in df_qb_all.columns if len(i) > 18}\n",
    "df_qb_all = df_qb_all.rename(columns = x)"
   ]
  },
  {
   "cell_type": "code",
   "execution_count": null,
   "id": "7fa5e148-5599-41f2-8b55-eaf18d37b2ce",
   "metadata": {
    "tags": []
   },
   "outputs": [],
   "source": [
    "df_qb_all.drop(columns = 'Pos_x_Tot', inplace = True)\n",
    "df_qb_all.rename(columns = {'Pos_y_Tot': 'Pos'})\n",
    "df_qb_all.head()"
   ]
  },
  {
   "cell_type": "code",
   "execution_count": null,
   "id": "ba25cce1-a4b2-4b6f-83d9-211ea971021c",
   "metadata": {},
   "outputs": [],
   "source": [
    "df_qb_all.to_csv('./modeling_data/passing.csv', index = 0)"
   ]
  }
 ],
 "metadata": {
  "kernelspec": {
   "display_name": "Python 3 (ipykernel)",
   "language": "python",
   "name": "python3"
  },
  "language_info": {
   "codemirror_mode": {
    "name": "ipython",
    "version": 3
   },
   "file_extension": ".py",
   "mimetype": "text/x-python",
   "name": "python",
   "nbconvert_exporter": "python",
   "pygments_lexer": "ipython3",
   "version": "3.9.7"
  }
 },
 "nbformat": 4,
 "nbformat_minor": 5
}
